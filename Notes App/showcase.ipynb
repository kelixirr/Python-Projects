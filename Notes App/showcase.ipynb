{
 "cells": [
  {
   "cell_type": "code",
   "execution_count": 22,
   "id": "9fbcaa4e",
   "metadata": {},
   "outputs": [],
   "source": [
    "import os\n",
    "import glob \n",
    "\n",
    "def my_notes():\n",
    "    \n",
    "    if len(glob.glob(\"*.txt\")) == 0:\n",
    "        print(\"You don't have any notes\")\n",
    "        \n",
    "    else:\n",
    "        print(\"Your notes are:\\n\")\n",
    "        for file in os.listdir():\n",
    "            if file.endswith(\".txt\"):\n",
    "                print(file)\n",
    "    \n",
    "def create_note():\n",
    "    \n",
    "    note_name = input(\"Please enter a note name\\n\")\n",
    "    \n",
    "    if \".txt\" in note_name:\n",
    "        note_name = note_name\n",
    "    else:\n",
    "        note_name = note_name + \".txt\"\n",
    "         \n",
    "    try:\n",
    "        with open(note_name, 'x') as note:\n",
    "            note.write('')\n",
    "            \n",
    "    except FileExistsError:\n",
    "        \n",
    "         print('Ohho! this note name already exist. Try again.')\n",
    "            \n",
    "    else:\n",
    "        print(\"Your note created. You can start writing now\")\n",
    "        my_notes()\n",
    "    \n",
    "def write_note():\n",
    "    \n",
    "    if len(glob.glob(\"*.txt\")) == 0:\n",
    "        print(\"You don't have any notes\")\n",
    "    \n",
    "    else:\n",
    "        notename = input('Enter the name of the note to work with\\n')\n",
    "        \n",
    "        if \".txt\" in notename:\n",
    "            notename = notename\n",
    "        else:\n",
    "            notename = notename + \".txt\"\n",
    "        \n",
    "        if not os.path.exists(notename):\n",
    "            print(\"Note does not exist. Please create a new note.\")   \n",
    "            \n",
    "        else:\n",
    "            with open(notename, 'a') as note:\n",
    "                while True:\n",
    "                    take_note = input(\"Please enter your texts or Q/q to exit \\n\")\n",
    "                    if take_note in [\"q\", \"Q\"]:\n",
    "                        break\n",
    "                    else:\n",
    "                        note.write(take_note + \"\\n\")\n",
    "                        \n",
    "            with open(notename, 'r') as note:\n",
    "                content = note.read()\n",
    "                print(\"your updated note is: \")\n",
    "                print(content)\n",
    "            \n",
    "def delete_note():\n",
    "    \n",
    "    if len(glob.glob(\"*.txt\")) == 0:\n",
    "        print(\"You don't have any notes\")\n",
    "    \n",
    "    else:\n",
    "        \n",
    "        filename = input(\"Enter the note name to be deleted forever\\n\")\n",
    "        if \".txt\" in filename:\n",
    "            filename = filename\n",
    "        else:\n",
    "            filename = filename + \".txt\"\n",
    "            \n",
    "        if os.path.exists(filename):\n",
    "            os.remove(filename)\n",
    "            print(\"\\nYour note has been deleted\")\n",
    "        else:\n",
    "            print('This note does not exist')\n",
    "    \n",
    "    \n",
    "        \n",
    "def delete_all():\n",
    "    \n",
    "    if len(glob.glob(\"*.txt\")) == 0:\n",
    "        print(\"You don't have any notes\")\n",
    "    \n",
    "    else:\n",
    "        for file in os.listdir():\n",
    "            if file.endswith(\".txt\"):\n",
    "                os.remove(file)\n",
    "                print(\"All your notes has been deleted.\")\n",
    "                \n",
    "def view_all():\n",
    "    \n",
    "    if len(glob.glob(\"*.txt\")) == 0:\n",
    "        print(\"You don't have any notes\")\n",
    "        \n",
    "    else:\n",
    "        print(f\"Your notes overviews\\n\")\n",
    "        for file in os.listdir():\n",
    "            if file.endswith(\".txt\"):\n",
    "                with open(file) as f:\n",
    "                    print(f\"Your {file} note contains: \\n{f.read()}\")\n",
    "                    \n",
    "def update_note():\n",
    "    \n",
    "    view_all()\n",
    "    \n",
    "    choice = input(\"choose a note you want to update\\n\")\n",
    "    \n",
    "    if \".txt\" in choice:\n",
    "        choice = choice\n",
    "    else:\n",
    "        choice = choice + \".txt\"\n",
    "        \n",
    "    if not os.path.exists(choice):\n",
    "        print(\"Note does not exist. Please create a new note.\")\n",
    "        \n",
    "    else: \n",
    "        print(\"\\nYour note choice is:\\n\", choice)\n",
    "        print(\"\\n\")\n",
    "        print(\"Enter your preference:\\n\")\n",
    "        print(\"Clear note content: 1\")\n",
    "        print(\"Rewrite note content: 2\")\n",
    "        print(\"Delete a word/replace a word/insert word or a sentence at a position: 3\")\n",
    "        \n",
    "        try:\n",
    "            action = int(input(\"Enter a choice between 1, 2, 3\\n\"))\n",
    "            \n",
    "        except ValueError:\n",
    "            print(\"Please enter the mentioned choice only\\n\")\n",
    "    \n",
    "        else:\n",
    "            if action not in [1, 2, 3]:\n",
    "                print('Please enter a valid value\\n')\n",
    "        \n",
    "            elif action == 1:\n",
    "                with open(choice, 'w') as file:\n",
    "                    file.write(' ')\n",
    "                    print(\"Your note content is cleared.\")\n",
    "            \n",
    "            elif action == 2:\n",
    "                \n",
    "                with open(choice, 'w') as note:\n",
    "                    while True:\n",
    "                        take_note = input(\"Please enter your texts or Q/q to exit \\n\")\n",
    "                        \n",
    "                        if take_note in [\"q\", \"Q\"]:\n",
    "                            break\n",
    "                        else:\n",
    "                            note.write(take_note + \"\\n\")\n",
    "                            \n",
    "                with open(choice) as note:\n",
    "                    print(\"your updated note is: \")\n",
    "                    print(note.read())\n",
    "                    \n",
    "            elif action == 3:\n",
    "                \n",
    "                with open(choice, \"r+\") as file:\n",
    "                    content = file.read().split()\n",
    "                    print(\"Content length is:\", len(content))\n",
    "                    print(\"Your content is:\", ' '.join(content))\n",
    "                    \n",
    "                    try:\n",
    "                        cursor_input = int(input(\"Enter the word position to replace a word or insert a sentence or enter above range for adding something to end \\n.\"))\n",
    "                        cursor = file.seek(cursor_input - 1)\n",
    "                        print(\"\\nYour modified position now is:\", cursor_input)\n",
    "                        \n",
    "                        try:\n",
    "                            content.pop(cursor)\n",
    "                            \n",
    "                        except IndexError:\n",
    "                            print(\"Please enter the value within range to update word or add something new else it will be added to the end\")\n",
    "                    \n",
    "                    except ValueError:\n",
    "                        print(\"Enter number only within range\")\n",
    "                    \n",
    "                    else:\n",
    "                        replacement_input = input(\"Enter the word/sentence to added at the position. Hit enter if you just want to delete the word at that position.\")\n",
    "                        content.insert(cursor, replacement_input)\n",
    "                        content = ' '.join(content)\n",
    "                        print(content)\n",
    "                        with open(choice, \"w\") as file:\n",
    "                            file.write(content)"
   ]
  },
  {
   "cell_type": "code",
   "execution_count": 23,
   "id": "16842c47",
   "metadata": {},
   "outputs": [
    {
     "name": "stdout",
     "output_type": "stream",
     "text": [
      "Your notes are:\n",
      "\n",
      "books.txt\n",
      "movies.txt\n",
      "shopping.txt\n"
     ]
    }
   ],
   "source": [
    "my_notes()"
   ]
  },
  {
   "cell_type": "code",
   "execution_count": 7,
   "id": "ec1846d7",
   "metadata": {},
   "outputs": [
    {
     "name": "stdout",
     "output_type": "stream",
     "text": [
      "Please enter a note name\n",
      "shopping\n",
      "Your note created. You can start writing now\n",
      "Your notes are:\n",
      "\n",
      "books.txt\n",
      "movies.txt\n",
      "shopping.txt\n"
     ]
    }
   ],
   "source": [
    "create_note()"
   ]
  },
  {
   "cell_type": "code",
   "execution_count": 24,
   "id": "2d18c991",
   "metadata": {},
   "outputs": [
    {
     "name": "stdout",
     "output_type": "stream",
     "text": [
      "Enter the name of the note to work with\n",
      "books\n",
      "Please enter your texts or Q/q to exit \n",
      "Sun Tzu is a legendary military strategist who revolutionized war and combat as we know it. Not much precise information is known about Sun Tzu but he is most famously known for his book The Art of War, a guide on how to successfully engage in conflict and battle.\n",
      "Please enter your texts or Q/q to exit \n",
      "q\n",
      "your updated note is: \n",
      "Sun Tzu is a legendary military strategist who revolutionized war and combat as we know it. Not much precise information is known about Sun Tzu but he is most famously known for his book The Art of War, a guide on how to successfully engage in conflict and battle.\n",
      "\n"
     ]
    }
   ],
   "source": [
    "write_note()"
   ]
  },
  {
   "cell_type": "code",
   "execution_count": 25,
   "id": "60b269ca",
   "metadata": {},
   "outputs": [
    {
     "name": "stdout",
     "output_type": "stream",
     "text": [
      "Enter the name of the note to work with\n",
      "movies\n",
      "Please enter your texts or Q/q to exit \n",
      "Optimus Prime and the Autobots take on their biggest challenge yet. When a new threat capable of destroying the entire planet emerges, they must team up with a powerful faction of Transformers known as the Maximals to save Earth.\n",
      "Please enter your texts or Q/q to exit \n",
      "q\n",
      "your updated note is: \n",
      "Optimus Prime and the Autobots take on their biggest challenge yet. When a new threat capable of destroying the entire planet emerges, they must team up with a powerful faction of Transformers known as the Maximals to save Earth.\n",
      "\n"
     ]
    }
   ],
   "source": [
    "write_note()"
   ]
  },
  {
   "cell_type": "code",
   "execution_count": 26,
   "id": "4326e39b",
   "metadata": {},
   "outputs": [
    {
     "name": "stdout",
     "output_type": "stream",
     "text": [
      "Enter the name of the note to work with\n",
      "shopping.txt\n",
      "Please enter your texts or Q/q to exit \n",
      "I want to buy shoes, shirt, and tie.\n",
      "Please enter your texts or Q/q to exit \n",
      "Additionally, I need to purchase perfume and trimmer.\n",
      "Please enter your texts or Q/q to exit \n",
      "q\n",
      "your updated note is: \n",
      "I want to buy shoes, shirt, and tie.\n",
      "Additionally, I need to purchase perfume and trimmer.\n",
      "\n"
     ]
    }
   ],
   "source": [
    "write_note()"
   ]
  },
  {
   "cell_type": "code",
   "execution_count": 27,
   "id": "702ea878",
   "metadata": {},
   "outputs": [
    {
     "name": "stdout",
     "output_type": "stream",
     "text": [
      "Your notes overviews\n",
      "\n",
      "Your books.txt note contains: \n",
      "Sun Tzu is a legendary military strategist who revolutionized war and combat as we know it. Not much precise information is known about Sun Tzu but he is most famously known for his book The Art of War, a guide on how to successfully engage in conflict and battle.\n",
      "\n",
      "Your movies.txt note contains: \n",
      "Optimus Prime and the Autobots take on their biggest challenge yet. When a new threat capable of destroying the entire planet emerges, they must team up with a powerful faction of Transformers known as the Maximals to save Earth.\n",
      "\n",
      "Your shopping.txt note contains: \n",
      "I want to buy shoes, shirt, and tie.\n",
      "Additionally, I need to purchase perfume and trimmer.\n",
      "\n"
     ]
    }
   ],
   "source": [
    "view_all()"
   ]
  },
  {
   "cell_type": "code",
   "execution_count": 28,
   "id": "ccfba311",
   "metadata": {},
   "outputs": [
    {
     "name": "stdout",
     "output_type": "stream",
     "text": [
      "Your notes overviews\n",
      "\n",
      "Your books.txt note contains: \n",
      "Sun Tzu is a legendary military strategist who revolutionized war and combat as we know it. Not much precise information is known about Sun Tzu but he is most famously known for his book The Art of War, a guide on how to successfully engage in conflict and battle.\n",
      "\n",
      "Your movies.txt note contains: \n",
      "Optimus Prime and the Autobots take on their biggest challenge yet. When a new threat capable of destroying the entire planet emerges, they must team up with a powerful faction of Transformers known as the Maximals to save Earth.\n",
      "\n",
      "Your shopping.txt note contains: \n",
      "I want to buy shoes, shirt, and tie.\n",
      "Additionally, I need to purchase perfume and trimmer.\n",
      "\n",
      "choose a note you want to update\n",
      "shopping\n",
      "\n",
      "Your note choice is:\n",
      " shopping.txt\n",
      "\n",
      "\n",
      "Enter your preference:\n",
      "\n",
      "Clear note content: 1\n",
      "Rewrite note content: 2\n",
      "Delete a word/replace a word/insert word or a sentence at a position: 3\n",
      "Enter a choice between 1, 2, 3\n",
      "3\n",
      "Content length is: 16\n",
      "Your content is: I want to buy shoes, shirt, and tie. Additionally, I need to purchase perfume and trimmer.\n",
      "Enter the word position to replace a word or insert a sentence or enter above range for adding something to end \n",
      ".16\n",
      "\n",
      "Your modified position now is: 16\n",
      "Enter the word/sentence to added at the position. Hit enter if you just want to delete the word at that position.gifts.\n",
      "I want to buy shoes, shirt, and tie. Additionally, I need to purchase perfume and gifts.\n"
     ]
    }
   ],
   "source": [
    "update_note()"
   ]
  },
  {
   "cell_type": "code",
   "execution_count": 29,
   "id": "ec1b426d",
   "metadata": {},
   "outputs": [
    {
     "name": "stdout",
     "output_type": "stream",
     "text": [
      "Your notes overviews\n",
      "\n",
      "Your books.txt note contains: \n",
      "Sun Tzu is a legendary military strategist who revolutionized war and combat as we know it. Not much precise information is known about Sun Tzu but he is most famously known for his book The Art of War, a guide on how to successfully engage in conflict and battle.\n",
      "\n",
      "Your movies.txt note contains: \n",
      "Optimus Prime and the Autobots take on their biggest challenge yet. When a new threat capable of destroying the entire planet emerges, they must team up with a powerful faction of Transformers known as the Maximals to save Earth.\n",
      "\n",
      "Your shopping.txt note contains: \n",
      "I want to buy shoes, shirt, and tie. Additionally, I need to purchase perfume and gifts.\n",
      "choose a note you want to update\n",
      "books\n",
      "\n",
      "Your note choice is:\n",
      " books.txt\n",
      "\n",
      "\n",
      "Enter your preference:\n",
      "\n",
      "Clear note content: 1\n",
      "Rewrite note content: 2\n",
      "Delete a word/replace a word/insert word or a sentence at a position: 3\n",
      "Enter a choice between 1, 2, 3\n",
      "1\n",
      "Your note content is cleared.\n"
     ]
    }
   ],
   "source": [
    "update_note()"
   ]
  },
  {
   "cell_type": "code",
   "execution_count": 30,
   "id": "280f7dfc",
   "metadata": {},
   "outputs": [
    {
     "name": "stdout",
     "output_type": "stream",
     "text": [
      "Your notes overviews\n",
      "\n",
      "Your books.txt note contains: \n",
      " \n",
      "Your movies.txt note contains: \n",
      "Optimus Prime and the Autobots take on their biggest challenge yet. When a new threat capable of destroying the entire planet emerges, they must team up with a powerful faction of Transformers known as the Maximals to save Earth.\n",
      "\n",
      "Your shopping.txt note contains: \n",
      "I want to buy shoes, shirt, and tie. Additionally, I need to purchase perfume and gifts.\n",
      "choose a note you want to update\n",
      "books\n",
      "\n",
      "Your note choice is:\n",
      " books.txt\n",
      "\n",
      "\n",
      "Enter your preference:\n",
      "\n",
      "Clear note content: 1\n",
      "Rewrite note content: 2\n",
      "Delete a word/replace a word/insert word or a sentence at a position: 3\n",
      "Enter a choice between 1, 2, 3\n",
      "2\n",
      "Please enter your texts or Q/q to exit \n",
      "The art of war book is amazing. Everyone should read it.\n",
      "Please enter your texts or Q/q to exit \n",
      "q\n",
      "your updated note is: \n",
      "The art of war book is amazing. Everyone should read it.\n",
      "\n"
     ]
    }
   ],
   "source": [
    "update_note()"
   ]
  },
  {
   "cell_type": "code",
   "execution_count": 31,
   "id": "09cd4e9a",
   "metadata": {},
   "outputs": [
    {
     "name": "stdout",
     "output_type": "stream",
     "text": [
      "Enter the note name to be deleted forever\n",
      "books\n",
      "\n",
      "Your note has been deleted\n"
     ]
    }
   ],
   "source": [
    "delete_note()"
   ]
  },
  {
   "cell_type": "code",
   "execution_count": 32,
   "id": "2600bbf8",
   "metadata": {},
   "outputs": [
    {
     "name": "stdout",
     "output_type": "stream",
     "text": [
      "Enter the note name to be deleted forever\n",
      "movies\n",
      "\n",
      "Your note has been deleted\n"
     ]
    }
   ],
   "source": [
    "delete_note()"
   ]
  },
  {
   "cell_type": "code",
   "execution_count": 33,
   "id": "ac97c02f",
   "metadata": {},
   "outputs": [
    {
     "name": "stdout",
     "output_type": "stream",
     "text": [
      "All your notes has been deleted.\n"
     ]
    }
   ],
   "source": [
    "delete_all()"
   ]
  },
  {
   "cell_type": "code",
   "execution_count": 34,
   "id": "38554aaf",
   "metadata": {},
   "outputs": [
    {
     "name": "stdout",
     "output_type": "stream",
     "text": [
      "You don't have any notes\n"
     ]
    }
   ],
   "source": [
    "delete_note()"
   ]
  },
  {
   "cell_type": "code",
   "execution_count": 35,
   "id": "7cd50e5a",
   "metadata": {},
   "outputs": [
    {
     "name": "stdout",
     "output_type": "stream",
     "text": [
      "You don't have any notes\n"
     ]
    }
   ],
   "source": [
    "delete_all()"
   ]
  },
  {
   "cell_type": "code",
   "execution_count": 36,
   "id": "836b36c9",
   "metadata": {},
   "outputs": [
    {
     "name": "stdout",
     "output_type": "stream",
     "text": [
      "You don't have any notes\n"
     ]
    }
   ],
   "source": [
    "write_note()"
   ]
  }
 ],
 "metadata": {
  "kernelspec": {
   "display_name": "Python 3 (ipykernel)",
   "language": "python",
   "name": "python3"
  },
  "language_info": {
   "codemirror_mode": {
    "name": "ipython",
    "version": 3
   },
   "file_extension": ".py",
   "mimetype": "text/x-python",
   "name": "python",
   "nbconvert_exporter": "python",
   "pygments_lexer": "ipython3",
   "version": "3.9.12"
  }
 },
 "nbformat": 4,
 "nbformat_minor": 5
}
