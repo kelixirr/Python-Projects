{
 "cells": [
  {
   "cell_type": "code",
   "execution_count": 1,
   "metadata": {},
   "outputs": [
    {
     "name": "stdout",
     "output_type": "stream",
     "text": [
      "****\n",
      "**\n",
      "**\n",
      "****\n",
      "00000000000000000000\n",
      "00\n",
      "00\n",
      "00\n",
      "00000000000000000000\n",
      " An exception happened:Width should be <= 2\n",
      " An exception happened:Symbol must be a single character string\n"
     ]
    }
   ],
   "source": [
    "def boxPrint(symbol, width, height):\n",
    "  if len(symbol) != 1:\n",
    "    raise Exception ('Symbol must be a single character string')\n",
    "  \n",
    "  if width <= 2:\n",
    "    raise Exception ('Width should be <= 2')\n",
    "  \n",
    "  if height <= 2:\n",
    "    raise Exception('Height must be greater than 2')\n",
    "  \n",
    "  print(symbol * width)\n",
    "\n",
    "  for i in range(height - 2):\n",
    "    print(symbol + ('' * (width - 2)) + symbol)\n",
    "\n",
    "  print(symbol * width)\n",
    "\n",
    "for sym, w, h in (('*', 4, 4), ('0', 20, 5), ('x', 1, 3), ('ZZ', 3, 3)):\n",
    "  try:\n",
    "    boxPrint(sym, w, h)\n",
    "  except Exception as err:\n",
    "    print(' An exception happened:' + str(err))"
   ]
  },
  {
   "cell_type": "code",
   "execution_count": 3,
   "metadata": {},
   "outputs": [
    {
     "ename": "Exception",
     "evalue": "This is the error message.",
     "output_type": "error",
     "traceback": [
      "\u001b[1;31m---------------------------------------------------------------------------\u001b[0m",
      "\u001b[1;31mException\u001b[0m                                 Traceback (most recent call last)",
      "\u001b[1;32mc:\\Users\\amrit\\OneDrive\\Desktop\\Python Projects\\Automate The Boring Stuff\\Debugging\\debug.ipynb Cell 2\u001b[0m line \u001b[0;36m7\n\u001b[0;32m      <a href='vscode-notebook-cell:/c%3A/Users/amrit/OneDrive/Desktop/Python%20Projects/Automate%20The%20Boring%20Stuff/Debugging/debug.ipynb#W1sZmlsZQ%3D%3D?line=3'>4</a>\u001b[0m \u001b[39mdef\u001b[39;00m \u001b[39mbacon\u001b[39m():\n\u001b[0;32m      <a href='vscode-notebook-cell:/c%3A/Users/amrit/OneDrive/Desktop/Python%20Projects/Automate%20The%20Boring%20Stuff/Debugging/debug.ipynb#W1sZmlsZQ%3D%3D?line=4'>5</a>\u001b[0m   \u001b[39mraise\u001b[39;00m \u001b[39mException\u001b[39;00m(\u001b[39m'\u001b[39m\u001b[39mThis is the error message.\u001b[39m\u001b[39m'\u001b[39m)\n\u001b[1;32m----> <a href='vscode-notebook-cell:/c%3A/Users/amrit/OneDrive/Desktop/Python%20Projects/Automate%20The%20Boring%20Stuff/Debugging/debug.ipynb#W1sZmlsZQ%3D%3D?line=6'>7</a>\u001b[0m spam()\n",
      "\u001b[1;32mc:\\Users\\amrit\\OneDrive\\Desktop\\Python Projects\\Automate The Boring Stuff\\Debugging\\debug.ipynb Cell 2\u001b[0m line \u001b[0;36m2\n\u001b[0;32m      <a href='vscode-notebook-cell:/c%3A/Users/amrit/OneDrive/Desktop/Python%20Projects/Automate%20The%20Boring%20Stuff/Debugging/debug.ipynb#W1sZmlsZQ%3D%3D?line=0'>1</a>\u001b[0m \u001b[39mdef\u001b[39;00m \u001b[39mspam\u001b[39m():\n\u001b[1;32m----> <a href='vscode-notebook-cell:/c%3A/Users/amrit/OneDrive/Desktop/Python%20Projects/Automate%20The%20Boring%20Stuff/Debugging/debug.ipynb#W1sZmlsZQ%3D%3D?line=1'>2</a>\u001b[0m   bacon()\n",
      "\u001b[1;32mc:\\Users\\amrit\\OneDrive\\Desktop\\Python Projects\\Automate The Boring Stuff\\Debugging\\debug.ipynb Cell 2\u001b[0m line \u001b[0;36m5\n\u001b[0;32m      <a href='vscode-notebook-cell:/c%3A/Users/amrit/OneDrive/Desktop/Python%20Projects/Automate%20The%20Boring%20Stuff/Debugging/debug.ipynb#W1sZmlsZQ%3D%3D?line=3'>4</a>\u001b[0m \u001b[39mdef\u001b[39;00m \u001b[39mbacon\u001b[39m():\n\u001b[1;32m----> <a href='vscode-notebook-cell:/c%3A/Users/amrit/OneDrive/Desktop/Python%20Projects/Automate%20The%20Boring%20Stuff/Debugging/debug.ipynb#W1sZmlsZQ%3D%3D?line=4'>5</a>\u001b[0m   \u001b[39mraise\u001b[39;00m \u001b[39mException\u001b[39;00m(\u001b[39m'\u001b[39m\u001b[39mThis is the error message.\u001b[39m\u001b[39m'\u001b[39m)\n",
      "\u001b[1;31mException\u001b[0m: This is the error message."
     ]
    }
   ],
   "source": [
    "def spam():\n",
    "  bacon()\n",
    "\n",
    "def bacon():\n",
    "  raise Exception('This is the error message.')\n",
    "\n",
    "spam()"
   ]
  },
  {
   "cell_type": "code",
   "execution_count": null,
   "metadata": {},
   "outputs": [],
   "source": [
    "import traceback \n",
    "\n",
    "try:\n",
    "  raise Exception('This is the error message')\n",
    "\n",
    "except:\n",
    "  errorFile = open('errorInfo.txt', 'wm')"
   ]
  },
  {
   "cell_type": "code",
   "execution_count": 3,
   "metadata": {},
   "outputs": [
    {
     "name": "stderr",
     "output_type": "stream",
     "text": [
      " 2023-09-29 11:22:23,948 - DEBUG - Start of program\n",
      " 2023-09-29 11:22:23,950 - DEBUG - Start of factorial(5%)\n",
      " 2023-09-29 11:22:23,952 - DEBUG - i is1, total is1\n",
      " 2023-09-29 11:22:23,954 - DEBUG - i is2, total is2\n",
      " 2023-09-29 11:22:23,956 - DEBUG - i is3, total is6\n",
      " 2023-09-29 11:22:23,957 - DEBUG - i is4, total is24\n",
      " 2023-09-29 11:22:23,959 - DEBUG - i is5, total is120\n",
      " 2023-09-29 11:22:23,961 - DEBUG - End of factorial (5%)\n",
      " 2023-09-29 11:22:23,963 - DEBUG - End of program\n"
     ]
    },
    {
     "name": "stdout",
     "output_type": "stream",
     "text": [
      "120\n"
     ]
    }
   ],
   "source": [
    "import logging\n",
    "logging.basicConfig(level = logging.DEBUG, format = ' %(asctime)s - %(levelname)s - %(message)s')\n",
    "logging.debug('Start of program')\n",
    "\n",
    "def factorial(n):\n",
    "  logging.debug('Start of factorial(%s%%)' %(n))\n",
    "  total = 1\n",
    "  for i in range(1, n+1):\n",
    "    total *= i\n",
    "    logging.debug('i is' + str(i) + ', total is' + str(total))\n",
    "\n",
    "  logging.debug('End of factorial (%s%%)' %(n))\n",
    "  return total\n",
    "\n",
    "print(factorial(5))\n",
    "logging.debug('End of program')"
   ]
  },
  {
   "cell_type": "code",
   "execution_count": null,
   "metadata": {},
   "outputs": [],
   "source": []
  }
 ],
 "metadata": {
  "kernelspec": {
   "display_name": "Python 3",
   "language": "python",
   "name": "python3"
  },
  "language_info": {
   "codemirror_mode": {
    "name": "ipython",
    "version": 3
   },
   "file_extension": ".py",
   "mimetype": "text/x-python",
   "name": "python",
   "nbconvert_exporter": "python",
   "pygments_lexer": "ipython3",
   "version": "3.11.5"
  },
  "orig_nbformat": 4
 },
 "nbformat": 4,
 "nbformat_minor": 2
}
