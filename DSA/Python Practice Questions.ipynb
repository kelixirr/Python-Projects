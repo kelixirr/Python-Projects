{
 "cells": [
  {
   "cell_type": "markdown",
   "id": "adec7b75-a2c1-471c-ae64-666c79f51c7d",
   "metadata": {},
   "source": [
    "## Python Practice Questions \n",
    "This notebook contains various questions related to Python programming that one can practice.\n",
    "\n",
    "### Questions\n",
    "\n",
    "1. Write a short Python function, is_multiple(n, m), that takes two integer \n",
    "values and returns True if n is a multiple of m, that is, n = mi for som \r\n",
    "integer i, and False otherwise."
   ]
  },
  {
   "cell_type": "code",
   "execution_count": 1,
   "id": "57b6df92-012f-47d7-b984-9f4976358647",
   "metadata": {},
   "outputs": [],
   "source": [
    "def is_multiple(n, m):\n",
    "    return n % m == 0"
   ]
  },
  {
   "cell_type": "markdown",
   "id": "00aacda5-342e-468e-9f93-851bf30b7fdd",
   "metadata": {
    "editable": true,
    "slideshow": {
     "slide_type": ""
    },
    "tags": []
   },
   "source": [
    "2. Write a short Python function, is_even(k), that takes an integer value and\r\n",
    "returns True if k is even, and False otherwise. However, your function\r\n",
    "cannot use the multiplication, modulo, or division operators."
   ]
  },
  {
   "cell_type": "code",
   "execution_count": 2,
   "id": "fa301cb4-c90c-4272-aa2b-26932faafb28",
   "metadata": {},
   "outputs": [],
   "source": [
    "def is_even(k):\n",
    "    return (k & 1) == 0"
   ]
  },
  {
   "cell_type": "markdown",
   "id": "08bf94e8-f102-46c7-a2d2-c0e62969a7e6",
   "metadata": {},
   "source": [
    "Hint: The above problem can be solved by taking the right most value (0 or 1) from the binary representation of that number and comparing it with 1 using bitwise AND"
   ]
  },
  {
   "cell_type": "markdown",
   "id": "fd96d142-662d-4895-bb66-93323f27bc03",
   "metadata": {},
   "source": [
    "3. Write a short Python function, minmax(data), that takes a sequence of\r\n",
    "one or more numbers, and returns the smallest and largest numbers, in the\r\n",
    "form of a tuple of length two. Do not use the built-in functions min or\r\n",
    "max in implementing your solution."
   ]
  },
  {
   "cell_type": "code",
   "execution_count": 21,
   "id": "1c5a176d-ce7b-4ab6-8ba3-8f23337971ef",
   "metadata": {},
   "outputs": [],
   "source": [
    "def minmax(data):\n",
    "    if not(data):  # to handle empty data\n",
    "        return None, None\n",
    "    min = max = data[0]\n",
    "\n",
    "    for num in data[1:]:\n",
    "        if num > max:\n",
    "            max = num\n",
    "        elif num < min:\n",
    "            min = num\n",
    "\n",
    "    if min == max:\n",
    "        return \"All numbers are the same:\" + str((min, max))\n",
    "    else:\n",
    "        return min, max"
   ]
  },
  {
   "cell_type": "markdown",
   "id": "d3eb8af0-6242-421f-9279-67ba752c2e03",
   "metadata": {},
   "source": [
    "4. Write a short Python function that takes a positive integer n and returns\n",
    "the sum of the squares of all the positive integers smaller than n."
   ]
  },
  {
   "cell_type": "code",
   "execution_count": 63,
   "id": "bd90980c-313e-4acd-8c8d-f199da1fe7cc",
   "metadata": {},
   "outputs": [],
   "source": [
    "def squares_sum(n):\n",
    "    if n < 0:\n",
    "        return \"Input must be a positive integer.\"\n",
    "    return sum([i**2 for i in range(n)])"
   ]
  },
  {
   "cell_type": "markdown",
   "id": "03ffecee-2f0f-4f63-833f-5bb0467e7869",
   "metadata": {},
   "source": [
    "5. Write a short Python function that takes a positive integer n and returns\r\n",
    "the sum of the squares of all the odd positive integers smaller than n."
   ]
  },
  {
   "cell_type": "code",
   "execution_count": 56,
   "id": "a10b1afb-c7be-4f54-bc5c-222aefe1405a",
   "metadata": {},
   "outputs": [],
   "source": [
    "def squares_odd_sum(n):\n",
    "    if n < 0:\n",
    "        return \"Input must be a positive integer.\"\n",
    "    return sum([i**2 for i in range(1, n, 2)])"
   ]
  },
  {
   "cell_type": "markdown",
   "id": "0f45a642-2c44-48ab-93ff-cafb2ab6da71",
   "metadata": {},
   "source": [
    "6. If string s has length n, and expression s[k] is used for index −n ≤ k < 0, what is the equivalent index j ≥ 0 such that s[j] references\r\n",
    "the same element?"
   ]
  },
  {
   "cell_type": "code",
   "execution_count": 65,
   "id": "ac886239-3ccc-40f4-8602-b1703aee43b8",
   "metadata": {},
   "outputs": [
    {
     "data": {
      "text/plain": [
       "'boy'"
      ]
     },
     "execution_count": 65,
     "metadata": {},
     "output_type": "execute_result"
    }
   ],
   "source": [
    "a = \"boy\"\n",
    "a"
   ]
  },
  {
   "cell_type": "code",
   "execution_count": 82,
   "id": "72561d1a-bd9e-4449-ac0c-db8cb31df48b",
   "metadata": {},
   "outputs": [
    {
     "data": {
      "text/plain": [
       "('b', 3, 'b')"
      ]
     },
     "execution_count": 82,
     "metadata": {},
     "output_type": "execute_result"
    }
   ],
   "source": [
    "a[0], len(a), a[-3]"
   ]
  },
  {
   "cell_type": "code",
   "execution_count": 89,
   "id": "797625f4-7ae0-425e-829a-04253d423a72",
   "metadata": {},
   "outputs": [
    {
     "data": {
      "text/plain": [
       "True"
      ]
     },
     "execution_count": 89,
     "metadata": {},
     "output_type": "execute_result"
    }
   ],
   "source": [
    "0 == len(a) + (-3) # answer is j = n + k"
   ]
  },
  {
   "cell_type": "markdown",
   "id": "2cfaff2c-d944-44f0-995b-04ed503e221c",
   "metadata": {},
   "source": [
    "7. Demonstrate how to use Python’s list comprehension syntax to produce\r\n",
    "the list [1, 2, 4, 8, 16, 32, 64, 128, 256].\r"
   ]
  },
  {
   "cell_type": "code",
   "execution_count": 92,
   "id": "0dcb2c20-112d-41c7-9bb0-705c7ecfcaad",
   "metadata": {},
   "outputs": [
    {
     "data": {
      "text/plain": [
       "[1, 2, 4, 8, 16, 32, 64, 128, 256]"
      ]
     },
     "execution_count": 92,
     "metadata": {},
     "output_type": "execute_result"
    }
   ],
   "source": [
    "[2**i for i in range(9)]"
   ]
  },
  {
   "cell_type": "markdown",
   "id": "dd5f97d4-6889-4d0b-bc50-22cf75b9f40a",
   "metadata": {},
   "source": [
    "8. Python’s random module includes a function choice(data) that returns a\r\n",
    "random element from a non-empty sequence. The random module includes a more basic function randrange, with parameterization similar to\r\n",
    "the built-in range function, that return a random choice from the given\r\n",
    "range. Using only the randrange function, implement your own version\r\n",
    "of the choice function."
   ]
  },
  {
   "cell_type": "code",
   "execution_count": 99,
   "id": "f84e1a0b-c6a6-4f2d-a610-38ac7866048d",
   "metadata": {},
   "outputs": [
    {
     "data": {
      "text/plain": [
       "1"
      ]
     },
     "execution_count": 99,
     "metadata": {},
     "output_type": "execute_result"
    }
   ],
   "source": [
    "import random\n",
    "random.choice([1, 2, 3])"
   ]
  },
  {
   "cell_type": "code",
   "execution_count": 106,
   "id": "cf206dbf-7fd6-466c-9784-5157f2b4e219",
   "metadata": {},
   "outputs": [
    {
     "data": {
      "text/plain": [
       "-2"
      ]
     },
     "execution_count": 106,
     "metadata": {},
     "output_type": "execute_result"
    }
   ],
   "source": [
    "random.randrange(-10, 10, 1)"
   ]
  },
  {
   "cell_type": "code",
   "execution_count": 119,
   "id": "9c11db39-a65b-4779-8efb-e6c0e0ad7230",
   "metadata": {},
   "outputs": [],
   "source": [
    "def random_choice(data):\n",
    "    if not data:\n",
    "        raise ValueError(\"Sequence must not be empty\")\n",
    "    return data[random.randrange(0, len(data))]"
   ]
  },
  {
   "cell_type": "markdown",
   "id": "0b320134-69d6-4594-8ee0-1ebd965b8715",
   "metadata": {},
   "source": [
    "9. Write a function that reverses a list of n\r\n",
    "integers, so that the numbers are listed in the opposite order than they\r\n",
    "were before"
   ]
  },
  {
   "cell_type": "code",
   "execution_count": 174,
   "id": "4cb01dd6-f367-42e0-b684-1e1fa4a9997c",
   "metadata": {},
   "outputs": [],
   "source": [
    "def swap(data):\n",
    "    swapped = []\n",
    "    for i in range(len(data)):\n",
    "        j = i - len(data) // 2\n",
    "        swapped.append(data[j])\n",
    "    return swapped"
   ]
  },
  {
   "cell_type": "markdown",
   "id": "bb83c1b5-4ccc-472c-a6ff-a551a4b98103",
   "metadata": {},
   "source": [
    "10. Write a short Python function that takes a sequence of integer values and\n",
    "determines if there is a distinct pair of numbers in the sequence whose\n",
    "product is odd."
   ]
  },
  {
   "cell_type": "code",
   "execution_count": 181,
   "id": "ecccbd02-2278-4be2-bd15-bc9118b0cbe0",
   "metadata": {},
   "outputs": [],
   "source": [
    "def odd_product(data):\n",
    "    odds = []\n",
    "    for i in data:\n",
    "        if i % 2 != 0:\n",
    "            odds.append(i)\n",
    "    return len(odds) >= 2 "
   ]
  },
  {
   "cell_type": "markdown",
   "id": "0d8d1a79-453d-4c1d-adec-13e190e1e399",
   "metadata": {},
   "source": [
    "11. Write a Python function that takes a sequence of numbers and determines\r\n",
    "if all the numbers are different from each other (that is, they are distinct)."
   ]
  },
  {
   "cell_type": "code",
   "execution_count": 190,
   "id": "0a5c0150-957e-434d-957e-ff9e7000aa1c",
   "metadata": {},
   "outputs": [],
   "source": [
    "def unique_num(data):\n",
    "    unique = set()\n",
    "    for i in data:\n",
    "        if i in unique:\n",
    "            return False\n",
    "        unique.add(i)\n",
    "    return True "
   ]
  },
  {
   "cell_type": "markdown",
   "id": "9567e170-8d5a-4ced-9617-a7331d9344db",
   "metadata": {},
   "source": [
    "12. Demonstrate how to use Python’s list comprehension syntax to produce\n",
    "the list [0, 2, 6, 12, 20, 30, 42, 56, 72, 90]."
   ]
  },
  {
   "cell_type": "code",
   "execution_count": 6,
   "id": "c467e8c7-2260-4f6d-8fa5-90a39bd9836d",
   "metadata": {},
   "outputs": [
    {
     "data": {
      "text/plain": [
       "[0, 2, 6, 12, 20, 30, 42, 56, 72, 90]"
      ]
     },
     "execution_count": 6,
     "metadata": {},
     "output_type": "execute_result"
    }
   ],
   "source": [
    "[i*(i+1) for i in range(10)]"
   ]
  },
  {
   "cell_type": "markdown",
   "id": "486c1fe1-30e7-4f5d-a08d-b29e9a4ec54c",
   "metadata": {},
   "source": [
    "13. Demonstrate how to use Python’s list comprehension syntax to produce\r\n",
    "the list [ a , b , c , ..., z ], but without having to type all 26 such\r\n",
    "characters literally."
   ]
  },
  {
   "cell_type": "code",
   "execution_count": 10,
   "id": "50dcf2d0-0ea0-445b-ac37-6f4c2e112c16",
   "metadata": {},
   "outputs": [
    {
     "name": "stdout",
     "output_type": "stream",
     "text": [
      "['a', 'b', 'c', 'd', 'e', 'f', 'g', 'h', 'i', 'j', 'k', 'l', 'm', 'n', 'o', 'p', 'q', 'r', 's', 't', 'u', 'v', 'w', 'x', 'y', 'z']\n"
     ]
    }
   ],
   "source": [
    "print([chr(i) for i in range(97, 123)]) # use ASCII code"
   ]
  },
  {
   "cell_type": "markdown",
   "id": "63d19a8a-a2e2-4c81-b4e3-81266d2d0970",
   "metadata": {},
   "source": [
    "14. Python’s random module includes a function shuffle(data) that accepts a\n",
    "list of elements and randomly reorders the elements so that each possible order occurs with equal probability. The random module includes a\n",
    "more basic function randint(a, b) that returns a uniformly random integer\n",
    "from a to b (including both endpoints). Using only the randint function,\n",
    "implement your own version of the shuffle function."
   ]
  },
  {
   "cell_type": "code",
   "execution_count": 15,
   "id": "4b78f61b-86a7-4858-9cda-eff04576c9b6",
   "metadata": {},
   "outputs": [
    {
     "data": {
      "text/plain": [
       "[3, 1, 4, 5, 2]"
      ]
     },
     "execution_count": 15,
     "metadata": {},
     "output_type": "execute_result"
    }
   ],
   "source": [
    "import random\n",
    "a  = [1, 2, 3, 4, 5]\n",
    "random.shuffle(a)\n",
    "a"
   ]
  },
  {
   "cell_type": "code",
   "execution_count": 23,
   "id": "255b3d8c-53c0-4265-b44d-bda8357b589d",
   "metadata": {},
   "outputs": [
    {
     "data": {
      "text/plain": [
       "1"
      ]
     },
     "execution_count": 23,
     "metadata": {},
     "output_type": "execute_result"
    }
   ],
   "source": [
    "random.randint(1, 10)"
   ]
  },
  {
   "cell_type": "code",
   "execution_count": 43,
   "id": "7f11baf2-7507-4015-8979-b33330539db3",
   "metadata": {},
   "outputs": [],
   "source": [
    "def my_shuffle(data):\n",
    "    for i in range(len(data)):\n",
    "        j = random.randint(i, len(data)-1)\n",
    "        data[i], data[j] = data[j], data[i]  # Fisher–Yates shuffle\n",
    "    return data"
   ]
  },
  {
   "cell_type": "code",
   "execution_count": 46,
   "id": "68fbf4c5-91a3-4bdd-8a0f-0213cecc6c41",
   "metadata": {},
   "outputs": [
    {
     "data": {
      "text/plain": [
       "[5, 1, 4, 3, 2]"
      ]
     },
     "execution_count": 46,
     "metadata": {},
     "output_type": "execute_result"
    }
   ],
   "source": [
    "my_shuffle(a)"
   ]
  },
  {
   "cell_type": "markdown",
   "id": "92cb0497-9d11-49d0-b5d3-11d6393d47d7",
   "metadata": {},
   "source": [
    "15. Write a short Python program that takes two arrays a and b of length n\n",
    "storing int values, and returns the dot product of a and b. That is, it returns\n",
    "an array c of length n such that c[i] = a[i] · b[i], for i = 0,...,n−1."
   ]
  },
  {
   "cell_type": "code",
   "execution_count": null,
   "id": "138c2b97-92da-4190-a609-3420ddaada3e",
   "metadata": {},
   "outputs": [],
   "source": [
    "def dot_product(a, b):\n",
    "    if len(a) != len(b):\n",
    "        raise ValueError(\"Arrays must be of the same length\")\n",
    "    \n",
    "    n = len(a)\n",
    "    c = [0] * n\n",
    "    \n",
    "    for i in range(n):\n",
    "        c[i] = a[i] * b[i]\n",
    "    \n",
    "    return c"
   ]
  },
  {
   "cell_type": "code",
   "execution_count": 77,
   "id": "6ea36693-861e-4a79-a645-5bbf6d7a5f9c",
   "metadata": {},
   "outputs": [
    {
     "name": "stdout",
     "output_type": "stream",
     "text": [
      "Dot product: [5, 12, 21, 32]\n"
     ]
    }
   ],
   "source": [
    "a = [1, 2, 3, 4]\n",
    "b = [5, 6, 7, 8]\n",
    "\n",
    "result = dot_product(a, b)\n",
    "print(\"Dot product:\", result)"
   ]
  },
  {
   "cell_type": "markdown",
   "id": "6c8bc421-0820-4766-a266-88afda3db24b",
   "metadata": {},
   "source": [
    "16. Write a short Python function that counts the number of vowels in a given\n",
    "character string."
   ]
  },
  {
   "cell_type": "code",
   "execution_count": 83,
   "id": "c52f7e27-8afd-4661-9cda-205a0d0abca8",
   "metadata": {},
   "outputs": [],
   "source": [
    "def vowel_counts(a):\n",
    "    vowels = \"aeiouAEIOU\"\n",
    "    count = 0\n",
    "    for char in a:\n",
    "        if char in vowels:\n",
    "            count += 1\n",
    "    return count"
   ]
  },
  {
   "cell_type": "code",
   "execution_count": 84,
   "id": "4cc49b34-8537-485b-99d9-52e7cd2756b5",
   "metadata": {},
   "outputs": [
    {
     "data": {
      "text/plain": [
       "25"
      ]
     },
     "execution_count": 84,
     "metadata": {},
     "output_type": "execute_result"
    }
   ],
   "source": [
    "vowel_counts(\"Write a short Python function that counts the number of vowels in a given character string.\")"
   ]
  },
  {
   "cell_type": "markdown",
   "id": "ea6b3d4f-c04f-4d97-b403-ede9799f4138",
   "metadata": {},
   "source": [
    "17. Write a short Python function that takes a string s, representing a sentence,\r\n",
    "and returns a copy of the string with all punctuation removed. For example, if given the string \"Let s try, Mike.\", this function would return\r\n",
    "\"Lets try Mike\".\r"
   ]
  },
  {
   "cell_type": "code",
   "execution_count": 94,
   "id": "45d86333-5c69-42ca-85ec-c39390d2b80f",
   "metadata": {},
   "outputs": [],
   "source": [
    "def remove_punctuation(s):\n",
    "    punctuation = '''!()-[]{};:'\",<>\\\\./?@#$%^&*_~'''\n",
    "    cleaned_sentence = \"\"\n",
    "    for char in s:\n",
    "        if char not in punctuation:\n",
    "            cleaned_sentence += char\n",
    "    return cleaned_sentence"
   ]
  },
  {
   "cell_type": "code",
   "execution_count": 100,
   "id": "b6852559-bbf5-4c6d-87a2-17367c851266",
   "metadata": {},
   "outputs": [
    {
     "data": {
      "text/plain": [
       "'Let s try Mike'"
      ]
     },
     "execution_count": 100,
     "metadata": {},
     "output_type": "execute_result"
    }
   ],
   "source": [
    "remove_punctuation(\"Let s try, Mike.\")  # note you have to handle the escape sequence problem "
   ]
  },
  {
   "cell_type": "markdown",
   "id": "742a77ca-6f3f-4596-9dad-0f613185c2b5",
   "metadata": {},
   "source": [
    "18. Give an implementation of a function named norm such that norm(v, p) returns the p-norm\r\n",
    "value of v and norm(v) returns the Euclidean norm of v. You may assume\r\n",
    "that v is a list of numbers."
   ]
  },
  {
   "cell_type": "code",
   "execution_count": 106,
   "id": "5f03ad06-5482-4ab6-bfa4-78ec9c511063",
   "metadata": {},
   "outputs": [],
   "source": [
    "def norm(v, p = 2):\n",
    "    cal = []\n",
    "    if p == 2:\n",
    "        for i in v:\n",
    "            cal.append(i**2)\n",
    "        return (sum(cal))**0.5\n",
    "    else:\n",
    "        for i in v:\n",
    "            cal.append(i**p)\n",
    "        return (sum(cal))**(1/p)"
   ]
  },
  {
   "cell_type": "markdown",
   "id": "92e36f44-c404-43db-aba2-f404df93212a",
   "metadata": {},
   "source": [
    "19.  "
   ]
  },
  {
   "cell_type": "code",
   "execution_count": null,
   "id": "6b60fdea-8feb-4672-9a43-2cd0aa9c86ae",
   "metadata": {},
   "outputs": [],
   "source": []
  }
 ],
 "metadata": {
  "kernelspec": {
   "display_name": "Python 3 (ipykernel)",
   "language": "python",
   "name": "python3"
  },
  "language_info": {
   "codemirror_mode": {
    "name": "ipython",
    "version": 3
   },
   "file_extension": ".py",
   "mimetype": "text/x-python",
   "name": "python",
   "nbconvert_exporter": "python",
   "pygments_lexer": "ipython3",
   "version": "3.12.3"
  }
 },
 "nbformat": 4,
 "nbformat_minor": 5
}
