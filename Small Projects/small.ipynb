{
 "cells": [
  {
   "cell_type": "markdown",
   "metadata": {},
   "source": [
    "## Find e to the Nth Digit - \n",
    "Just like the previous problem, but with e instead of PI. Enter a number and have the program generate e up to that many decimal places. Keep a limit to how far the program will go.  "
   ]
  },
  {
   "cell_type": "code",
   "execution_count": 1,
   "metadata": {},
   "outputs": [],
   "source": [
    "from math import e\n",
    "\n",
    "def e_with_precision(n):\n",
    "  \n",
    "  return '%.*f' % (n, e)"
   ]
  },
  {
   "cell_type": "markdown",
   "metadata": {},
   "source": [
    "## Fibonacci Sequence\n",
    "Enter a number and have the program generate the Fibonacci sequence to that number or to the Nth number."
   ]
  },
  {
   "cell_type": "code",
   "execution_count": 101,
   "metadata": {},
   "outputs": [
    {
     "name": "stdout",
     "output_type": "stream",
     "text": [
      "1 2 3 5 8 13 21 34 55 89 \n"
     ]
    }
   ],
   "source": [
    "n = 10\n",
    "num1 = 0\n",
    "num2 = 1\n",
    "next_number = num2  \n",
    "count = 1\n",
    " \n",
    "while count <= n:\n",
    "    print(next_number, end=\" \")\n",
    "    count += 1\n",
    "    num1, num2 = num2, next_number\n",
    "    next_number = num1 + num2\n",
    "print()"
   ]
  },
  {
   "cell_type": "markdown",
   "metadata": {},
   "source": [
    "## Prime Factorization\n",
    "Have the user enter a number and find all Prime Factors (if there are any) and display them."
   ]
  },
  {
   "cell_type": "code",
   "execution_count": 148,
   "metadata": {},
   "outputs": [],
   "source": [
    "factors = lambda n: [x for x in range(1,n+1) if not n%x]\n",
    "is_prime = lambda n: len(factors(n))==2\n",
    "primefactors = lambda n: list(filter(is_prime ,factors(n)))"
   ]
  },
  {
   "cell_type": "markdown",
   "metadata": {},
   "source": [
    "## Next Prime Number - \n",
    "Have the program find prime numbers until the user chooses to stop asking for the next one. "
   ]
  },
  {
   "cell_type": "code",
   "execution_count": 158,
   "metadata": {},
   "outputs": [],
   "source": [
    "def isPrime(x):\n",
    "  if x == 2:\n",
    "    return True\n",
    "  \n",
    "  if x % 2 == 0:\n",
    "    return False\n",
    "  \n",
    "  for i in range(3, int(x** 0.5) + 1, 2):\n",
    "    if x % i == 0:\n",
    "      return False\n",
    "    \n",
    "  return True"
   ]
  },
  {
   "cell_type": "code",
   "execution_count": 159,
   "metadata": {},
   "outputs": [],
   "source": [
    "def genPrime(currentPrime):\n",
    "   newPrime = currentPrime + 1\n",
    "\n",
    "   while True:\n",
    "      if not isPrime(newPrime):\n",
    "         newPrime += 1\n",
    "      else:\n",
    "         break \n",
    "   return newPrime"
   ]
  },
  {
   "cell_type": "code",
   "execution_count": 164,
   "metadata": {},
   "outputs": [
    {
     "data": {
      "text/plain": [
       "19"
      ]
     },
     "execution_count": 164,
     "metadata": {},
     "output_type": "execute_result"
    }
   ],
   "source": [
    "genPrime(17)"
   ]
  },
  {
   "cell_type": "markdown",
   "metadata": {},
   "source": [
    "## Alarm Clock - \n",
    "A simple clock where it plays a sound after X number of minutes/seconds or at a particular time"
   ]
  },
  {
   "cell_type": "code",
   "execution_count": 165,
   "metadata": {},
   "outputs": [],
   "source": [
    "import winsound, time, os, platform\n",
    "\n",
    "def sound():\n",
    "\n",
    "\tfor i in range(2): # Number of repeats\n",
    "\t\t\n",
    "\t\tfor j in range(9): # Number of beeps\n",
    "\t\t\t\n",
    "\t\t\twinsound.MessageBeep(-1) # Sound played\n",
    "\t\t\n",
    "\t\ttime.sleep(2) # How long between beeps\n",
    "\n",
    "def alarm(n):\n",
    "\t\n",
    "\tprint()\n",
    "\tprint(\"Wait time:\", n, \"seconds.\")\n",
    "\ttime.sleep(n) # Waits 'n' seconds before playing sound\n",
    "\t\n",
    "\tsound()"
   ]
  },
  {
   "cell_type": "code",
   "execution_count": 167,
   "metadata": {},
   "outputs": [
    {
     "name": "stdout",
     "output_type": "stream",
     "text": [
      "\n",
      "Wait time: 2 seconds.\n"
     ]
    }
   ],
   "source": [
    "alarm(2)"
   ]
  },
  {
   "cell_type": "markdown",
   "metadata": {},
   "source": [
    "## Factorial Finder - \n",
    "The factorial of a positive integer n is defined as the product of the sequence , n-1, n-2, ...1 and the factorial of 0 is defined as being 1."
   ]
  },
  {
   "cell_type": "code",
   "execution_count": 168,
   "metadata": {},
   "outputs": [],
   "source": [
    "def fac(n):\n",
    "    if n==0:\n",
    "        return 1\n",
    "    elif n==1:\n",
    "        return 1\n",
    "    else:\n",
    "        return n * fac(n-1)"
   ]
  },
  {
   "cell_type": "markdown",
   "metadata": {},
   "source": [
    "## Signup & Login Form In Python For Any Application \n",
    "Create a signup and login form in python for any application. Password encryption and decryption are not included. You can write your own algorithm for that or use external library. "
   ]
  },
  {
   "cell_type": "code",
   "execution_count": 68,
   "metadata": {},
   "outputs": [],
   "source": [
    "import re\n",
    "#create a database for users \n",
    "users = {}\n",
    "\n",
    "# create a signup form\n",
    "def signup():\n",
    "    \n",
    "    details = {}\n",
    "    \n",
    "    # asking for name\n",
    "    name = input(\"Enter your name\")\n",
    "    details[\"Name\"] = name\n",
    "\n",
    "    # asking for age and verifying\n",
    "    try:\n",
    "        age = int(input(\"Enter your age. You must be at least 13.\"))\n",
    "    except ValueError:\n",
    "        print(\"Only numbers are allowed\")\n",
    "    else:\n",
    "        if age < 13:\n",
    "            print(\"You must be at least 13\")\n",
    "        else:\n",
    "            details[\"Age\"] = age\n",
    "    \n",
    "    # asking for email and verifying \n",
    "    email = input(\"Enter your email.\")\n",
    "    # Create a Regex for Email Addresses\n",
    "    emailRegex = re.compile(r'''(\n",
    "                        \n",
    "                        [a-zA-Z0-9._%+-1]+   #username\n",
    "                        @                    # @symbol\n",
    "                        [a-zA-Z0-9.-]+       #domain name\n",
    "                        (\\.[a-zA-Z]{2,4})    #dot-something\n",
    "                        )''', re.VERBOSE)    \n",
    "    e = []\n",
    "    f = emailRegex.search(email)\n",
    "    if f == \"None\":\n",
    "        print(\"Enter an email\")\n",
    "    else:\n",
    "        try:\n",
    "            e.append(f.group())\n",
    "            if e[0] in users:\n",
    "                print(\"This email is already taken\")\n",
    "            else:\n",
    "                details[\"Email\"] = e[0]\n",
    "        except AttributeError:\n",
    "            print(\"One email address is needed!\")\n",
    "        \n",
    "    # enter address\n",
    "    address = input(\"Enter your address\")\n",
    "    details[\"Address\"] = address\n",
    "    \n",
    "    # enter username \n",
    "    username = input(\"Enter your username\")\n",
    "    if username in users:\n",
    "        username = input(\"Enter a different username\")\n",
    "        details[\"Username\"] = username\n",
    "    else: \n",
    "        details[\"Username\"] = username\n",
    "    \n",
    "    # enter password -- You can also encrypt and decrypt the password using third party libarary\n",
    "    password = input(\"Enter your password\")\n",
    "    details[\"Password\"] = password\n",
    "\n",
    "    # updating our database   \n",
    "    users.update({username : details})\n",
    "    print(\"\\n\")\n",
    "    print(\"Your Details Are:\")\n",
    "    print(details)\n",
    "\n",
    "# A function to allow users to deleted their accounts\n",
    "def delete():\n",
    "    username = input(\"Enter your username\")\n",
    "    if username not in users:\n",
    "        username = input(\"Enter your username\")\n",
    "    else:\n",
    "        users.pop(username)\n",
    "        print(\"Account Deleted\")\n",
    "\n",
    "# to allow users to login\n",
    "def login():\n",
    "    username = input(\"Enter your username\")\n",
    "    if username not in users:\n",
    "        print(\"You don't have an account. Please create one\")\n",
    "    else: \n",
    "        password = input(\"Enter your password\")\n",
    "        if password != users[username][\"Password\"]:\n",
    "            print(\"Password did not match. Try again\")\n",
    "        else:\n",
    "            print(\"You are successfully logged in\") # you can input the process you want to start here. "
   ]
  },
  {
   "cell_type": "code",
   "execution_count": null,
   "metadata": {},
   "outputs": [],
   "source": []
  }
 ],
 "metadata": {
  "kernelspec": {
   "display_name": "Python 3",
   "language": "python",
   "name": "python3"
  },
  "language_info": {
   "codemirror_mode": {
    "name": "ipython",
    "version": 3
   },
   "file_extension": ".py",
   "mimetype": "text/x-python",
   "name": "python",
   "nbconvert_exporter": "python",
   "pygments_lexer": "ipython3",
   "version": "3.11.5"
  }
 },
 "nbformat": 4,
 "nbformat_minor": 2
}
