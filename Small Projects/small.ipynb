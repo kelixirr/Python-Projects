{
 "cells": [
  {
   "cell_type": "markdown",
   "metadata": {},
   "source": [
    "## Find e to the Nth Digit - Just like the previous problem, but with e instead of PI. Enter a number and have the program generate e up to that many decimal places. Keep a limit to how far the program will go.  "
   ]
  },
  {
   "cell_type": "code",
   "execution_count": 1,
   "metadata": {},
   "outputs": [],
   "source": [
    "from math import e\n",
    "\n",
    "def e_with_precision(n):\n",
    "  \n",
    "  return '%.*f' % (n, e)"
   ]
  },
  {
   "cell_type": "markdown",
   "metadata": {},
   "source": [
    "## Fibonacci Sequence\n",
    "Enter a number and have the program generate the Fibonacci sequence to that number or to the Nth number."
   ]
  },
  {
   "cell_type": "code",
   "execution_count": 101,
   "metadata": {},
   "outputs": [
    {
     "name": "stdout",
     "output_type": "stream",
     "text": [
      "1 2 3 5 8 13 21 34 55 89 \n"
     ]
    }
   ],
   "source": [
    "n = 10\n",
    "num1 = 0\n",
    "num2 = 1\n",
    "next_number = num2  \n",
    "count = 1\n",
    " \n",
    "while count <= n:\n",
    "    print(next_number, end=\" \")\n",
    "    count += 1\n",
    "    num1, num2 = num2, next_number\n",
    "    next_number = num1 + num2\n",
    "print()"
   ]
  },
  {
   "cell_type": "markdown",
   "metadata": {},
   "source": [
    "## Prime Factorization\n",
    "Have the user enter a number and find all Prime Factors (if there are any) and display them."
   ]
  },
  {
   "cell_type": "code",
   "execution_count": 148,
   "metadata": {},
   "outputs": [],
   "source": [
    "factors = lambda n: [x for x in range(1,n+1) if not n%x]\n",
    "is_prime = lambda n: len(factors(n))==2\n",
    "primefactors = lambda n: list(filter(is_prime ,factors(n)))"
   ]
  },
  {
   "cell_type": "markdown",
   "metadata": {},
   "source": [
    "## Next Prime Number - \n",
    "Have the program find prime numbers until the user chooses to stop asking for the next one. "
   ]
  },
  {
   "cell_type": "code",
   "execution_count": 158,
   "metadata": {},
   "outputs": [],
   "source": [
    "def isPrime(x):\n",
    "  if x == 2:\n",
    "    return True\n",
    "  \n",
    "  if x % 2 == 0:\n",
    "    return False\n",
    "  \n",
    "  for i in range(3, int(x** 0.5) + 1, 2):\n",
    "    if x % i == 0:\n",
    "      return False\n",
    "    \n",
    "  return True"
   ]
  },
  {
   "cell_type": "code",
   "execution_count": 159,
   "metadata": {},
   "outputs": [],
   "source": [
    "def genPrime(currentPrime):\n",
    "   newPrime = currentPrime + 1\n",
    "\n",
    "   while True:\n",
    "      if not isPrime(newPrime):\n",
    "         newPrime += 1\n",
    "      else:\n",
    "         break \n",
    "   return newPrime"
   ]
  },
  {
   "cell_type": "code",
   "execution_count": 164,
   "metadata": {},
   "outputs": [
    {
     "data": {
      "text/plain": [
       "19"
      ]
     },
     "execution_count": 164,
     "metadata": {},
     "output_type": "execute_result"
    }
   ],
   "source": [
    "genPrime(17)"
   ]
  },
  {
   "cell_type": "markdown",
   "metadata": {},
   "source": [
    "## Alarm Clock - \n",
    "A simple clock where it plays a sound after X number of minutes/seconds or at a particular time"
   ]
  },
  {
   "cell_type": "code",
   "execution_count": 165,
   "metadata": {},
   "outputs": [],
   "source": [
    "import winsound, time, os, platform\n",
    "\n",
    "def sound():\n",
    "\n",
    "\tfor i in range(2): # Number of repeats\n",
    "\t\t\n",
    "\t\tfor j in range(9): # Number of beeps\n",
    "\t\t\t\n",
    "\t\t\twinsound.MessageBeep(-1) # Sound played\n",
    "\t\t\n",
    "\t\ttime.sleep(2) # How long between beeps\n",
    "\n",
    "def alarm(n):\n",
    "\t\n",
    "\tprint()\n",
    "\tprint(\"Wait time:\", n, \"seconds.\")\n",
    "\ttime.sleep(n) # Waits 'n' seconds before playing sound\n",
    "\t\n",
    "\tsound()"
   ]
  },
  {
   "cell_type": "code",
   "execution_count": 167,
   "metadata": {},
   "outputs": [
    {
     "name": "stdout",
     "output_type": "stream",
     "text": [
      "\n",
      "Wait time: 2 seconds.\n"
     ]
    }
   ],
   "source": [
    "alarm(2)"
   ]
  },
  {
   "cell_type": "markdown",
   "metadata": {},
   "source": [
    "## Factorial Finder - \n",
    "The factorial of a positive integer n is defined as the product of the sequence , n-1, n-2, ...1 and the factorial of 0 is defined as being 1."
   ]
  },
  {
   "cell_type": "code",
   "execution_count": 168,
   "metadata": {},
   "outputs": [],
   "source": [
    "def fac(n):\n",
    "    if n==0:\n",
    "        return 1\n",
    "    elif n==1:\n",
    "        return 1\n",
    "    else:\n",
    "        return n * fac(n-1)"
   ]
  }
 ],
 "metadata": {
  "kernelspec": {
   "display_name": "Python 3",
   "language": "python",
   "name": "python3"
  },
  "language_info": {
   "codemirror_mode": {
    "name": "ipython",
    "version": 3
   },
   "file_extension": ".py",
   "mimetype": "text/x-python",
   "name": "python",
   "nbconvert_exporter": "python",
   "pygments_lexer": "ipython3",
   "version": "3.11.5"
  }
 },
 "nbformat": 4,
 "nbformat_minor": 2
}
