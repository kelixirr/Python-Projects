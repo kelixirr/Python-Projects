{
 "cells": [
  {
   "cell_type": "code",
   "execution_count": 523,
   "id": "cab4edd7",
   "metadata": {},
   "outputs": [],
   "source": [
    "class Task():\n",
    "    \n",
    "    \"\"\"This program allows you manage your to-do list and is fully \n",
    "    tested from the point of view of users. \n",
    "    It's also very user friendly\"\"\"\n",
    "    \n",
    "    \n",
    "    def __init__(self):\n",
    "        \n",
    "        self.tasks = []\n",
    "        self.active_tasks = []\n",
    "        self.completed_tasks = []\n",
    "        \n",
    "        \n",
    "    # all users to find help \n",
    "    def app_help(self):\n",
    "        \n",
    "        print(\"\"\"You can use this app to create to-do-lists and manage your tasks:\\n\n",
    "                          - use create_task() to create new tasks\\n\n",
    "                          - delete_task() to delete a single task \\n\n",
    "                          - delete_all_tasks() to delete all task from your main list\\n\n",
    "                          - create_active_tasks() to create an active task list\\n\n",
    "                          - create_completed_tasks() to mark a single task as complete\\n\n",
    "                          - all_tasks_completed() to mark all as complete\\n\n",
    "                          - delete_completed_tasks() deletes everything in completed list\\n\n",
    "                          - show_status() shows status of all tasks\"\"\")\n",
    "        \n",
    "        \n",
    "    # allow users to create tasks\n",
    "    def create_task(self):\n",
    "        \n",
    "        while True:\n",
    "            \n",
    "            new_tasks = input('Enter new tasks or Q or q to quit:\\n')\n",
    "            \n",
    "            if new_tasks == \"Q\" or new_tasks == 'q':\n",
    "                break \n",
    "                \n",
    "            elif new_tasks == '':\n",
    "                print(\"Please add a task!!\")\n",
    "                continue\n",
    "                \n",
    "            else:\n",
    "                self.tasks.append(new_tasks)\n",
    "                \n",
    "                if len(self.tasks) != 0:\n",
    "                    print(\"\\n\")\n",
    "                    print(f\"Your Tasks are:{self.tasks}\")\n",
    "                    \n",
    "    \n",
    "    # allow users to delete a single task from main list\n",
    "    def delete_task(self):\n",
    "        \n",
    "        if len(self.tasks) == 0:\n",
    "            \n",
    "            print(\"You don't have anything in your task list\")\n",
    "        \n",
    "        else:\n",
    "            while True:\n",
    "                \n",
    "                delete_task = input('Enter the task number to be deleted or Q/q to quit:')\n",
    "                \n",
    "                if delete_task == 'q' or delete_task == 'Q':\n",
    "                    break\n",
    "                else:\n",
    "                    try:\n",
    "                        try:\n",
    "                            self.tasks.pop(int(delete_task))\n",
    "                            print(\"Task Deleted\\n\")\n",
    "                            print(f\"Your Tasks are:{list(enumerate(self.tasks))}\")\n",
    "                            if len(self.tasks) == 0:\n",
    "                                print(\"You don't have any pending tasks\")\n",
    "                                break \n",
    "                        except IndexError:\n",
    "                            print(\"Please enter the number within task length range\")\n",
    "                        \n",
    "                    except ValueError:\n",
    "                        print(\"Please enter either task number or q/Q\")\n",
    "    \n",
    "    # Allow users to delete all tasks from main and active lists\n",
    "    def delete_all_tasks(self):\n",
    "        \n",
    "        if len(self.tasks) != 0:\n",
    "            self.tasks.clear()\n",
    "            self.active_tasks.clear()\n",
    "            print(\"All tasks are clear\")\n",
    "            \n",
    "        else:\n",
    "            print(\"You don't have any task in your list\")\n",
    "            \n",
    "    # allow users to create active tasks\n",
    "    def create_active_tasks(self):\n",
    "        \n",
    "        if len(self.tasks) !=0: \n",
    "            self.active_tasks = self.tasks[:]\n",
    "            print(f\"Your active tasks are:{self.active_tasks}\")\n",
    "            \n",
    "        else:\n",
    "            print(\"You don't have any task in tasks list\")\n",
    "            \n",
    "            while True:\n",
    "                new_task_input = input(\"Want to create new tasks?:yes or no\").lower()\n",
    "                \n",
    "                if new_task_input == \"yes\":\n",
    "                    self.create_task()\n",
    "                    break\n",
    "                if new_task_input == \"no\":\n",
    "                    break\n",
    "                if new_task_input not in [\"yes\", \"no\"]:\n",
    "                    print(\"Please enter either yes or no\")\n",
    "                \n",
    "    # allow users to mark a task as complete\n",
    "    def create_completed_tasks(self):\n",
    "        \n",
    "        if len(self.active_tasks) == 0:\n",
    "            print(\"You don't have anything in your active task list\")\n",
    "        \n",
    "        else:\n",
    "            \n",
    "            while True:\n",
    "                \n",
    "                completed_input = input(\"Enter task number to mark as complete or Q/q to quit\")\n",
    "                \n",
    "                if completed_input == 'Q' or completed_input == 'q':\n",
    "                    break\n",
    "                    \n",
    "                else:\n",
    "                    try:\n",
    "                        try:\n",
    "                            popped_task = self.active_tasks.pop(int(completed_input))\n",
    "                            self.tasks.remove(popped_task)\n",
    "                            self.completed_tasks.append(popped_task)\n",
    "                            \n",
    "                            print(\"\\n\")\n",
    "                            print(f\"Your completed tasks are: {self.completed_tasks}\\n\")\n",
    "                            \n",
    "                            if len(self.active_tasks) == 0:\n",
    "                                print(\"Great Job 🎉 All Done!!\")\n",
    "                                break\n",
    "                            else:\n",
    "                                print(f\"Your active tasks are:{list(enumerate(self.active_tasks))}\")\n",
    "                                \n",
    "                        except IndexError:\n",
    "                            print(\"Please enter number within task range\")\n",
    "                            \n",
    "                    except ValueError:\n",
    "                        print(\"Please enter either task number or Q/q\")\n",
    "                        \n",
    "    # allow users to mark all tasks as completed\n",
    "    def all_tasks_completed(self):\n",
    "        \n",
    "        if len(self.active_tasks) == 0:\n",
    "            print(\"You don't have anything in your active task list\")\n",
    "        else:\n",
    "            self.completed_tasks = self.active_tasks[:]\n",
    "            print(f\"Your completed tasks are: {list(enumerate(self.completed_tasks))}\\n\")\n",
    "            \n",
    "        \n",
    "    # to delete all completed tasks\n",
    "    def delete_completed_tasks(self):\n",
    "        \n",
    "        if len(self.completed_tasks) == 0:\n",
    "            \n",
    "            print(\"There is nothing to delete\")\n",
    "        else:\n",
    "            self.completed_tasks.clear()\n",
    "            \n",
    "            print(\"Completed tasks are deleted\")\n",
    "            \n",
    "    # allow users to see all task list status\n",
    "    def show_status(self):\n",
    "        \n",
    "        print(\"Here is the detail of your task lists:\\n\")\n",
    "        \n",
    "        if len(self.tasks) == 0:\n",
    "            print(\"Your task list: All Done 🥰 \\n\")\n",
    "        else:\n",
    "            print(f\"Your task list:{self.tasks}\\n\")\n",
    "        \n",
    "        if len(self.active_tasks) == 0:\n",
    "            print(\"Your active tasks are: All Done 🥰 \\n\")\n",
    "        else:\n",
    "            print(f\"Your active tasks are: {self.active_tasks}\\n\")\n",
    "            \n",
    "        if len(self.completed_tasks) == 0:\n",
    "            print(f\"Your completed tasks are: All Done 🥰 \\n\")\n",
    "        else:\n",
    "            print(f\"Your completed tasks are: {self.completed_tasks}\\n\")\n",
    "                                         "
   ]
  },
  {
   "cell_type": "code",
   "execution_count": null,
   "id": "5a707c75",
   "metadata": {},
   "outputs": [],
   "source": []
  },
  {
   "cell_type": "code",
   "execution_count": null,
   "id": "df076b7b",
   "metadata": {},
   "outputs": [],
   "source": []
  },
  {
   "cell_type": "code",
   "execution_count": null,
   "id": "dbce8f28",
   "metadata": {},
   "outputs": [],
   "source": []
  },
  {
   "cell_type": "code",
   "execution_count": null,
   "id": "ab9fdbfe",
   "metadata": {},
   "outputs": [],
   "source": []
  },
  {
   "cell_type": "code",
   "execution_count": null,
   "id": "a8440040",
   "metadata": {},
   "outputs": [],
   "source": []
  },
  {
   "cell_type": "code",
   "execution_count": 524,
   "id": "5f71c637",
   "metadata": {},
   "outputs": [],
   "source": [
    "my_tasks = Task()"
   ]
  },
  {
   "cell_type": "code",
   "execution_count": 525,
   "id": "a8310809",
   "metadata": {},
   "outputs": [
    {
     "name": "stdout",
     "output_type": "stream",
     "text": [
      "You can use this app to create to-do-lists and manage your tasks:\n",
      "\n",
      "                          - use create_task() to create new tasks\n",
      "\n",
      "                          - delete_task() to delete a single task \n",
      "\n",
      "                          - delete_all_tasks() to delete all task from your main list\n",
      "\n",
      "                          - create_active_tasks() to create an active task list\n",
      "\n",
      "                          - create_completed_tasks() to mark a single task as complete\n",
      "\n",
      "                          - all_tasks_completed() to mark all as complete\n",
      "\n",
      "                          - delete_completed_tasks() deletes everything in completed list\n",
      "\n",
      "                          - show_status() shows status of all tasks\n"
     ]
    }
   ],
   "source": [
    "my_tasks.app_help()"
   ]
  },
  {
   "cell_type": "code",
   "execution_count": 511,
   "id": "9c8d2a59",
   "metadata": {},
   "outputs": [
    {
     "name": "stdout",
     "output_type": "stream",
     "text": [
      "Enter new tasks or Q or q to quit:\n",
      "Workout\n",
      "\n",
      "\n",
      "Your Tasks are:['Workout']\n",
      "Enter new tasks or Q or q to quit:\n",
      "Meditate\n",
      "\n",
      "\n",
      "Your Tasks are:['Workout', 'Meditate']\n",
      "Enter new tasks or Q or q to quit:\n",
      "Meeting\n",
      "\n",
      "\n",
      "Your Tasks are:['Workout', 'Meditate', 'Meeting']\n",
      "Enter new tasks or Q or q to quit:\n",
      "Study\n",
      "\n",
      "\n",
      "Your Tasks are:['Workout', 'Meditate', 'Meeting', 'Study']\n",
      "Enter new tasks or Q or q to quit:\n",
      "Q\n"
     ]
    }
   ],
   "source": [
    "my_tasks.create_task()"
   ]
  },
  {
   "cell_type": "code",
   "execution_count": 512,
   "id": "c737f599",
   "metadata": {},
   "outputs": [
    {
     "name": "stdout",
     "output_type": "stream",
     "text": [
      "Your active tasks are:['Workout', 'Meditate', 'Meeting', 'Study']\n"
     ]
    }
   ],
   "source": [
    "my_tasks.create_active_tasks()"
   ]
  },
  {
   "cell_type": "code",
   "execution_count": 513,
   "id": "0a8280fc",
   "metadata": {},
   "outputs": [
    {
     "name": "stdout",
     "output_type": "stream",
     "text": [
      "Enter task number to mark as complete or Q/q to quit0\n",
      "\n",
      "\n",
      "Your completed tasks are: ['Workout']\n",
      "\n",
      "Your active tasks are:[(0, 'Meditate'), (1, 'Meeting'), (2, 'Study')]\n",
      "Enter task number to mark as complete or Q/q to quit0\n",
      "\n",
      "\n",
      "Your completed tasks are: ['Workout', 'Meditate']\n",
      "\n",
      "Your active tasks are:[(0, 'Meeting'), (1, 'Study')]\n",
      "Enter task number to mark as complete or Q/q to quit0\n",
      "\n",
      "\n",
      "Your completed tasks are: ['Workout', 'Meditate', 'Meeting']\n",
      "\n",
      "Your active tasks are:[(0, 'Study')]\n",
      "Enter task number to mark as complete or Q/q to quit0\n",
      "\n",
      "\n",
      "Your completed tasks are: ['Workout', 'Meditate', 'Meeting', 'Study']\n",
      "\n",
      "Great Job 🎉 All Done!!\n"
     ]
    }
   ],
   "source": [
    "my_tasks.create_completed_tasks()"
   ]
  },
  {
   "cell_type": "code",
   "execution_count": 514,
   "id": "7232ec1f",
   "metadata": {},
   "outputs": [
    {
     "name": "stdout",
     "output_type": "stream",
     "text": [
      "Here is the detail of your task lists:\n",
      "\n",
      "Your task list: All Done 🥰 \n",
      "\n",
      "Your active tasks are: All Done 🥰 \n",
      "\n",
      "Your completed tasks are: ['Workout', 'Meditate', 'Meeting', 'Study']\n",
      "\n"
     ]
    }
   ],
   "source": [
    "my_tasks.show_status()"
   ]
  },
  {
   "cell_type": "code",
   "execution_count": 515,
   "id": "2ea08217",
   "metadata": {},
   "outputs": [
    {
     "name": "stdout",
     "output_type": "stream",
     "text": [
      "You don't have anything in your active task list\n"
     ]
    }
   ],
   "source": [
    "my_tasks.all_tasks_completed()"
   ]
  },
  {
   "cell_type": "code",
   "execution_count": 516,
   "id": "3d5a3c86",
   "metadata": {},
   "outputs": [
    {
     "name": "stdout",
     "output_type": "stream",
     "text": [
      "Completed tasks are deleted\n"
     ]
    }
   ],
   "source": [
    "my_tasks.delete_completed_tasks()"
   ]
  },
  {
   "cell_type": "code",
   "execution_count": 517,
   "id": "95f8913d",
   "metadata": {},
   "outputs": [
    {
     "data": {
      "text/plain": [
       "[]"
      ]
     },
     "execution_count": 517,
     "metadata": {},
     "output_type": "execute_result"
    }
   ],
   "source": [
    "my_tasks.tasks"
   ]
  },
  {
   "cell_type": "code",
   "execution_count": 518,
   "id": "99a33088",
   "metadata": {},
   "outputs": [
    {
     "name": "stdout",
     "output_type": "stream",
     "text": [
      "You don't have anything in your task list\n"
     ]
    }
   ],
   "source": [
    "my_tasks.delete_task()"
   ]
  },
  {
   "cell_type": "code",
   "execution_count": 522,
   "id": "d36e5be8",
   "metadata": {},
   "outputs": [
    {
     "name": "stdout",
     "output_type": "stream",
     "text": [
      "You don't have any task in your list\n"
     ]
    }
   ],
   "source": [
    "my_tasks.delete_all_tasks()"
   ]
  },
  {
   "cell_type": "code",
   "execution_count": null,
   "id": "f52024b1",
   "metadata": {},
   "outputs": [],
   "source": []
  }
 ],
 "metadata": {
  "kernelspec": {
   "display_name": "Python 3 (ipykernel)",
   "language": "python",
   "name": "python3"
  },
  "language_info": {
   "codemirror_mode": {
    "name": "ipython",
    "version": 3
   },
   "file_extension": ".py",
   "mimetype": "text/x-python",
   "name": "python",
   "nbconvert_exporter": "python",
   "pygments_lexer": "ipython3",
   "version": "3.9.12"
  }
 },
 "nbformat": 4,
 "nbformat_minor": 5
}
